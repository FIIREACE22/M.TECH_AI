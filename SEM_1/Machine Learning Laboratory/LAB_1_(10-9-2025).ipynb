{
 "cells": [
  {
   "cell_type": "code",
   "execution_count": 45,
   "id": "cfd6f7df",
   "metadata": {},
   "outputs": [],
   "source": [
    "x= [0,1,2,3,3,5,5,5,6,7,7,10]\n",
    "y= [96,85,82,74,95,68,76,84,58,65,75,50]"
   ]
  },
  {
   "cell_type": "code",
   "execution_count": 46,
   "id": "73308fea",
   "metadata": {},
   "outputs": [],
   "source": [
    "n = len(x)\n",
    "sumXY=0\n",
    "x2 =0"
   ]
  },
  {
   "cell_type": "code",
   "execution_count": 47,
   "id": "cd9c86a2",
   "metadata": {},
   "outputs": [],
   "source": [
    "for i in range(n) :\n",
    "    sumXY = sumXY + x[i]*y[i]\n",
    "    x2 = x2 + x[i]*x[i]"
   ]
  },
  {
   "cell_type": "code",
   "execution_count": 48,
   "id": "ade9ace4",
   "metadata": {},
   "outputs": [],
   "source": [
    "m = ((n*sumXY)-(sum(x)*sum(y)))/((n*x2)-(sum(x)*sum(x)))"
   ]
  },
  {
   "cell_type": "code",
   "execution_count": 49,
   "id": "1e53993e",
   "metadata": {},
   "outputs": [],
   "source": [
    "c = (sum(y)/n) - (m*(sum(x)/n))"
   ]
  },
  {
   "cell_type": "code",
   "execution_count": 50,
   "id": "39d1006f",
   "metadata": {},
   "outputs": [
    {
     "name": "stdout",
     "output_type": "stream",
     "text": [
      "Enter how many hour of television have you watched ==> 9\n",
      "You will gate 57.36 in your examination...\n"
     ]
    }
   ],
   "source": [
    "v = int(input(\"Enter how many hour of television have you watched ==> \"))\n",
    "ans = m*v + c\n",
    "\n",
    "print(\"You will gate {} in your examination...\".format(round(ans,2)))"
   ]
  },
  {
   "cell_type": "code",
   "execution_count": null,
   "id": "5ee53bc1",
   "metadata": {},
   "outputs": [],
   "source": []
  }
 ],
 "metadata": {
  "kernelspec": {
   "display_name": "Python 3 (ipykernel)",
   "language": "python",
   "name": "python3"
  },
  "language_info": {
   "codemirror_mode": {
    "name": "ipython",
    "version": 3
   },
   "file_extension": ".py",
   "mimetype": "text/x-python",
   "name": "python",
   "nbconvert_exporter": "python",
   "pygments_lexer": "ipython3",
   "version": "3.11.4"
  }
 },
 "nbformat": 4,
 "nbformat_minor": 5
}
