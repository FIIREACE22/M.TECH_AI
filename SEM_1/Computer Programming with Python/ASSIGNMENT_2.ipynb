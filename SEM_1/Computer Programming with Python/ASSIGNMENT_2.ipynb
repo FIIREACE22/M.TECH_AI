{
 "cells": [
  {
   "cell_type": "markdown",
   "id": "b7f265c1",
   "metadata": {},
   "source": [
    "Q1. Positive or Negative\n",
    "Write a program to check whether a given number is positive, negative, or zero."
   ]
  },
  {
   "cell_type": "code",
   "execution_count": 1,
   "id": "6b75fd00",
   "metadata": {},
   "outputs": [
    {
     "name": "stdout",
     "output_type": "stream",
     "text": [
      "Enter A Number --> 5\n",
      "Number is positive...\n"
     ]
    }
   ],
   "source": [
    "n = int(input(\"Enter A Number --> \"))\n",
    "if n==0 :\n",
    "    print(\"number is zero..\")\n",
    "elif n>0:\n",
    "    print(\"Number is positive...\")\n",
    "else:\n",
    "    print(\"Entered number is negative...\")"
   ]
  },
  {
   "cell_type": "markdown",
   "id": "e77bbbc3",
   "metadata": {},
   "source": [
    "Q.2 Even or Odd\n",
    "Write a program to check whether a given integer is even or odd."
   ]
  },
  {
   "cell_type": "code",
   "execution_count": 2,
   "id": "bced5406",
   "metadata": {},
   "outputs": [
    {
     "name": "stdout",
     "output_type": "stream",
     "text": [
      "Enter A Number --> 6\n",
      "Entered number is even...\n"
     ]
    }
   ],
   "source": [
    "n = int(input(\"Enter A Number --> \"))\n",
    "if n%2:\n",
    "    print(\"Entered number is Oddd...\")\n",
    "else:\n",
    "    print(\"Entered number is even...\")"
   ]
  },
  {
   "cell_type": "markdown",
   "id": "4d19b5ea",
   "metadata": {},
   "source": [
    "Q.3 Largest of Two Numbers\n",
    "Write a program to input two numbers and print which one is larger."
   ]
  },
  {
   "cell_type": "code",
   "execution_count": 3,
   "id": "5efde760",
   "metadata": {},
   "outputs": [
    {
     "name": "stdout",
     "output_type": "stream",
     "text": [
      "Enter A Number --> 15\n",
      "Enter A Number --> 68\n",
      "68\n"
     ]
    }
   ],
   "source": [
    "a = int(input(\"Enter A Number --> \"))\n",
    "b = int(input(\"Enter A Number --> \"))\n",
    "print(a if a>b else b)"
   ]
  },
  {
   "cell_type": "markdown",
   "id": "70392bc3",
   "metadata": {},
   "source": [
    "Q.4 Absolute Value\n",
    "Write a program to find the absolute value of a given number without using the abs()\n",
    "function."
   ]
  },
  {
   "cell_type": "code",
   "execution_count": 4,
   "id": "1b817846",
   "metadata": {},
   "outputs": [
    {
     "name": "stdout",
     "output_type": "stream",
     "text": [
      "Enter A Number --> -9\n",
      "Absolute value ==  9\n"
     ]
    }
   ],
   "source": [
    "n = int(input(\"Enter A Number --> \"))\n",
    "if n<0 :\n",
    "    n=-n\n",
    "print(\"Absolute value == \",n)\n"
   ]
  },
  {
   "cell_type": "markdown",
   "id": "71f16b40",
   "metadata": {},
   "source": [
    "Q.5 Eligibility for Voting\n",
    "Write a program to check whether a person is eligible to vote or not. (A person is\n",
    "eligible if their age is 18 or above)."
   ]
  },
  {
   "cell_type": "code",
   "execution_count": 6,
   "id": "36964320",
   "metadata": {},
   "outputs": [
    {
     "name": "stdout",
     "output_type": "stream",
     "text": [
      "Ener the age of a Person==> 24\n",
      "You are Eligible to vote.......\n"
     ]
    }
   ],
   "source": [
    "Age = int(input(\"Ener the age of a Person==> \"))\n",
    "\n",
    "if (Age >= 18):\n",
    "    print(\"You are Eligible to vote.......\")\n",
    "else:\n",
    "    print(\"You are not eligible to vote....\")"
   ]
  },
  {
   "cell_type": "markdown",
   "id": "23365bec",
   "metadata": {},
   "source": [
    "Q.6 Leap Year Check\n",
    "Write a program to check whether a given year is a leap year or not. (Hint: A leap year is\n",
    "divisible by 4, but not by 100 unless also divisible by 400)."
   ]
  },
  {
   "cell_type": "code",
   "execution_count": 9,
   "id": "c0e77d15",
   "metadata": {},
   "outputs": [
    {
     "name": "stdout",
     "output_type": "stream",
     "text": [
      "Enter A year --> 1235\n",
      "Entered Year Is Not Leap Year...\n"
     ]
    }
   ],
   "source": [
    "y = int(input(\"Enter A year --> \"))\n",
    "\n",
    "if (y % 400 == 0) or (y % 100 != 0 and y % 4 == 0):\n",
    "    print(\"Entered Year Is Leap Year...\")\n",
    "else:\n",
    "    print(\"Entered Year Is Not Leap Year...\")"
   ]
  },
  {
   "cell_type": "markdown",
   "id": "476ffcfb",
   "metadata": {},
   "source": [
    "Q.7 Grade Calculation\n",
    "Write a program that takes marks as input and prints:\n",
    "- 'Pass' if marks are 40 or above\n",
    "- 'Fail' if marks are less than 40"
   ]
  },
  {
   "cell_type": "code",
   "execution_count": 11,
   "id": "97868706",
   "metadata": {},
   "outputs": [
    {
     "name": "stdout",
     "output_type": "stream",
     "text": [
      "Enter mark of math --> 39\n",
      "Enter mark of english --> 65\n",
      "Enter mark of Science --> 87\n",
      "Fail\n"
     ]
    }
   ],
   "source": [
    "math = int(input(\"Enter mark of math --> \"))\n",
    "english = int(input(\"Enter mark of english --> \"))\n",
    "science = int(input(\"Enter mark of Science --> \"))\n",
    "\n",
    "if math<40 or english<40 or science<40 :\n",
    "    print(\"Fail\")\n",
    "else:\n",
    "    print(\"Pass\")"
   ]
  },
  {
   "cell_type": "markdown",
   "id": "6cf3a088",
   "metadata": {},
   "source": [
    "Q.8 Multiple of 5\n",
    "Write a program to check whether a given number is a multiple of 5."
   ]
  },
  {
   "cell_type": "code",
   "execution_count": 12,
   "id": "8750a868",
   "metadata": {},
   "outputs": [
    {
     "name": "stdout",
     "output_type": "stream",
     "text": [
      "Enter A Number --> 55\n",
      "Entered number is divisable by 5...\n"
     ]
    }
   ],
   "source": [
    "n = int(input(\"Enter A Number --> \"))\n",
    "if n%5==0:\n",
    "    print(\"Entered number is divisable by 5...\")\n",
    "else:\n",
    "    print(\"Entered number is not divisable by 5...\")"
   ]
  },
  {
   "cell_type": "markdown",
   "id": "a4b2ee95",
   "metadata": {},
   "source": [
    "Q.9 Character Case Check\n",
    "Write a program to input a character and check whether it is an uppercase letter,\n",
    "lowercase letter, or not a letter."
   ]
  },
  {
   "cell_type": "code",
   "execution_count": 15,
   "id": "6c1cdffc",
   "metadata": {},
   "outputs": [
    {
     "name": "stdout",
     "output_type": "stream",
     "text": [
      "Enter A Number --> @\n",
      "It is not letter\n"
     ]
    }
   ],
   "source": [
    "ch = input(\"Enter A Number --> \")\n",
    "if ch.isupper():\n",
    "    print(\"it is upper case\")\n",
    "elif ch.islower():\n",
    "    print(\"It is lower case\")\n",
    "else:\n",
    "    print(\"It is not letter\")"
   ]
  },
  {
   "cell_type": "markdown",
   "id": "c8b3c93e",
   "metadata": {},
   "source": [
    "Q.10 Discount Calculator\n",
    "Write a program that calculates the discount:\n",
    "\n",
    "- If purchase amount is greater than or equal to 1000, apply a 10% discount.\n",
    "- Otherwise, no discount.\n",
    "Finally, print the final bill amount."
   ]
  },
  {
   "cell_type": "code",
   "execution_count": 19,
   "id": "d802ca34",
   "metadata": {},
   "outputs": [
    {
     "name": "stdout",
     "output_type": "stream",
     "text": [
      "Enter A Purchase price --> 900\n",
      "Final Bill Amount -->  900\n"
     ]
    }
   ],
   "source": [
    "p = int(input(\"Enter A Purchase price --> \"))\n",
    "discount = 0\n",
    "if p > 1000 :\n",
    "    discount = p * 0.1\n",
    "print(\"Final Bill Amount --> \",p-discount)"
   ]
  },
  {
   "cell_type": "code",
   "execution_count": null,
   "id": "bcf08aca",
   "metadata": {},
   "outputs": [],
   "source": []
  }
 ],
 "metadata": {
  "kernelspec": {
   "display_name": "Python 3 (ipykernel)",
   "language": "python",
   "name": "python3"
  },
  "language_info": {
   "codemirror_mode": {
    "name": "ipython",
    "version": 3
   },
   "file_extension": ".py",
   "mimetype": "text/x-python",
   "name": "python",
   "nbconvert_exporter": "python",
   "pygments_lexer": "ipython3",
   "version": "3.11.4"
  }
 },
 "nbformat": 4,
 "nbformat_minor": 5
}
