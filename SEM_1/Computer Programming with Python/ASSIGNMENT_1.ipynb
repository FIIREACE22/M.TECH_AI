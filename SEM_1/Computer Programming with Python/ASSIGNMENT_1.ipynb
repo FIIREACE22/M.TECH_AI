{
 "cells": [
  {
   "cell_type": "markdown",
   "id": "b97cd727",
   "metadata": {},
   "source": [
    "Q1) Write a Python program to get a list, sorted in increasing order by the last element in\n",
    "each tuple from a given list of non-empty tuples.\n",
    "Sample List : [(2, 5), (1, 2), (4, 4), (2, 3), (2, 1)]"
   ]
  },
  {
   "cell_type": "code",
   "execution_count": 6,
   "id": "35a76a7e",
   "metadata": {},
   "outputs": [
    {
     "name": "stdout",
     "output_type": "stream",
     "text": [
      "Original List ==>  [(2, 5), (1, 2), (4, 4), (2, 3), (2, 1)]\n",
      "Sorted List ==>  [(2, 1), (1, 2), (2, 3), (4, 4), (2, 5)]\n"
     ]
    }
   ],
   "source": [
    "def lastelement(t):\n",
    "    return t[-1]\n",
    "\n",
    "Original_list = [(2, 5), (1, 2), (4, 4), (2, 3), (2, 1)]\n",
    "\n",
    "Sorted_list = sorted(Original_list,key = lastelement)\n",
    "\n",
    "print(\"Original List ==> \",Original_list)\n",
    "print(\"Sorted List ==> \",Sorted_list)"
   ]
  },
  {
   "cell_type": "markdown",
   "id": "79b1b9fd",
   "metadata": {},
   "source": [
    "Q2) Write a Python program to get a string from a given string where all occurrences of its\n",
    "first char have been changed to &#39;$&#39;, except the first char itself. Sample String : &#39;restart&#39;"
   ]
  },
  {
   "cell_type": "code",
   "execution_count": 14,
   "id": "f5c01154",
   "metadata": {},
   "outputs": [
    {
     "name": "stdout",
     "output_type": "stream",
     "text": [
      "Enter String==> restart\n",
      "changed List ==>  $ e s t a $ t\n"
     ]
    }
   ],
   "source": [
    "Original_string = input(\"Enter String==> \")\n",
    "l = list(Original_string)\n",
    "char = l[0]\n",
    "for i in range(len(l)):\n",
    "    if (l[i]==char):\n",
    "        l[i]='$'\n",
    "Changed_list = ' '.join(l)\n",
    "print(\"changed List ==> \",Changed_list)"
   ]
  },
  {
   "cell_type": "markdown",
   "id": "948ceb9e",
   "metadata": {},
   "source": [
    "Q3) Write a Python program to find the first appearance of the substring &#39;not&#39; and &#39;poor&#39; from\n",
    "a given string, if &#39;bad&#39; follows the &#39;poor&#39;, replace the whole &#39;not&#39;...&#39;poor&#39; substring with &#39;good&#39;.\n",
    "Return the resulting string."
   ]
  },
  {
   "cell_type": "code",
   "execution_count": 17,
   "id": "5e7b8c12",
   "metadata": {},
   "outputs": [
    {
     "name": "stdout",
     "output_type": "stream",
     "text": [
      "Enter String==> the dinner today is not that poor for newbie\n",
      "New String ==>  the dinner today is good for newbie\n"
     ]
    }
   ],
   "source": [
    "Original_string = input(\"Enter String==> \")\n",
    "not_pos = Original_string.find('not')\n",
    "poor_pos = Original_string.find('poor')\n",
    "\n",
    "if not_pos !=-1 and poor_pos != -1 and poor_pos > not_pos :\n",
    "    New_string = Original_string[:not_pos] + 'good' + Original_string[poor_pos+4:]\n",
    "print(\"New String ==> \",New_string)"
   ]
  },
  {
   "cell_type": "markdown",
   "id": "329273d7",
   "metadata": {},
   "source": [
    "Q4) Write a python program to sort a dictionary by value."
   ]
  },
  {
   "cell_type": "code",
   "execution_count": 30,
   "id": "9e36fbfd",
   "metadata": {},
   "outputs": [
    {
     "name": "stdout",
     "output_type": "stream",
     "text": [
      "Original Dict ==>  {'apple': 5, 'banana': 2, 'cherry': 8, 'date': 3, 'elderberry': 6}\n",
      "sorted_dict ==>  {'banana': 2, 'date': 3, 'apple': 5, 'elderberry': 6, 'cherry': 8}\n"
     ]
    }
   ],
   "source": [
    "my_dict = {\n",
    "    \"apple\": 5,\n",
    "    \"banana\": 2,\n",
    "    \"cherry\": 8,\n",
    "    \"date\": 3,\n",
    "    \"elderberry\": 6\n",
    "}\n",
    "\n",
    "#print(my_dict.items())\n",
    "sorted_dict = dict(sorted(my_dict.items(),key = lambda item : item[1]))\n",
    "print(\"Original Dict ==> \",my_dict)\n",
    "print(\"sorted_dict ==> \",sorted_dict)"
   ]
  },
  {
   "cell_type": "markdown",
   "id": "1694ce48",
   "metadata": {},
   "source": [
    "Q5) Write a python program to add key to a dictionary."
   ]
  },
  {
   "cell_type": "code",
   "execution_count": 33,
   "id": "67cbc800",
   "metadata": {},
   "outputs": [
    {
     "name": "stdout",
     "output_type": "stream",
     "text": [
      "Enter the name Of Fruit==> Mengo\n",
      "Enter an Integer Numbe==> 9\n",
      "Original dictionary==>  {'apple': 5, 'banana': 2, 'cherry': 8, 'date': 3, 'elderberry': 6}\n",
      "Updated dictionary==>  {'apple': 5, 'banana': 2, 'cherry': 8, 'date': 3, 'elderberry': 6, 'Mengo': 9}\n"
     ]
    }
   ],
   "source": [
    "my_dict = {\n",
    "    \"apple\": 5,\n",
    "    \"banana\": 2,\n",
    "    \"cherry\": 8,\n",
    "    \"date\": 3,\n",
    "    \"elderberry\": 6\n",
    "}\n",
    "\n",
    "key = input(\"Enter the name Of Fruit==> \")\n",
    "value = int(input(\"Enter an Integer Numbe==> \"))\n",
    "print(\"Original dictionary==> \",my_dict)\n",
    "my_dict.update({key : value})\n",
    "print(\"Updated dictionary==> \",my_dict)"
   ]
  },
  {
   "cell_type": "code",
   "execution_count": null,
   "id": "6dac1cae",
   "metadata": {},
   "outputs": [],
   "source": []
  }
 ],
 "metadata": {
  "kernelspec": {
   "display_name": "Python 3 (ipykernel)",
   "language": "python",
   "name": "python3"
  },
  "language_info": {
   "codemirror_mode": {
    "name": "ipython",
    "version": 3
   },
   "file_extension": ".py",
   "mimetype": "text/x-python",
   "name": "python",
   "nbconvert_exporter": "python",
   "pygments_lexer": "ipython3",
   "version": "3.11.4"
  }
 },
 "nbformat": 4,
 "nbformat_minor": 5
}
